{
 "cells": [
  {
   "cell_type": "markdown",
   "id": "c6ccf190",
   "metadata": {
    "papermill": {
     "duration": 0.009857,
     "end_time": "2022-11-06T06:26:03.276594",
     "exception": false,
     "start_time": "2022-11-06T06:26:03.266737",
     "status": "completed"
    },
    "tags": []
   },
   "source": [
    "# Part 4 : Ensemble Random Forest\n",
    "- More trees = Random Forest"
   ]
  },
  {
   "cell_type": "markdown",
   "id": "92825acd",
   "metadata": {
    "papermill": {
     "duration": 0.008267,
     "end_time": "2022-11-06T06:26:03.293714",
     "exception": false,
     "start_time": "2022-11-06T06:26:03.285447",
     "status": "completed"
    },
    "tags": []
   },
   "source": [
    "# Import Libraries"
   ]
  },
  {
   "cell_type": "code",
   "execution_count": 1,
   "id": "fc07ffed",
   "metadata": {
    "_cell_guid": "b1076dfc-b9ad-4769-8c92-a6c4dae69d19",
    "_uuid": "8f2839f25d086af736a60e9eeb907d3b93b6e0e5",
    "execution": {
     "iopub.execute_input": "2022-11-06T06:26:03.314148Z",
     "iopub.status.busy": "2022-11-06T06:26:03.313493Z",
     "iopub.status.idle": "2022-11-06T06:26:04.802968Z",
     "shell.execute_reply": "2022-11-06T06:26:04.801913Z"
    },
    "papermill": {
     "duration": 1.503036,
     "end_time": "2022-11-06T06:26:04.805970",
     "exception": false,
     "start_time": "2022-11-06T06:26:03.302934",
     "status": "completed"
    },
    "tags": []
   },
   "outputs": [],
   "source": [
    "import numpy as np \n",
    "import pandas as pd \n",
    "\n",
    "from sklearn.model_selection import train_test_split\n",
    "\n",
    "# import Random Forest Classifier\n",
    "from sklearn.ensemble import RandomForestClassifier\n",
    "\n",
    "from sklearn.model_selection import GridSearchCV\n",
    "\n",
    "from sklearn.metrics import classification_report"
   ]
  },
  {
   "cell_type": "markdown",
   "id": "9a791d7c",
   "metadata": {
    "papermill": {
     "duration": 0.008619,
     "end_time": "2022-11-06T06:26:04.823144",
     "exception": false,
     "start_time": "2022-11-06T06:26:04.814525",
     "status": "completed"
    },
    "tags": []
   },
   "source": [
    "## Import Data"
   ]
  },
  {
   "cell_type": "code",
   "execution_count": 2,
   "id": "bb30ec73",
   "metadata": {
    "execution": {
     "iopub.execute_input": "2022-11-06T06:26:04.845078Z",
     "iopub.status.busy": "2022-11-06T06:26:04.844673Z",
     "iopub.status.idle": "2022-11-06T06:26:04.851642Z",
     "shell.execute_reply": "2022-11-06T06:26:04.850392Z"
    },
    "papermill": {
     "duration": 0.020936,
     "end_time": "2022-11-06T06:26:04.854902",
     "exception": false,
     "start_time": "2022-11-06T06:26:04.833966",
     "status": "completed"
    },
    "tags": []
   },
   "outputs": [
    {
     "name": "stdout",
     "output_type": "stream",
     "text": [
      "/kaggle/input/ipba-12-unext-jigsaw-classification-case-study/sample_submission.csv\n",
      "/kaggle/input/ipba-12-unext-jigsaw-classification-case-study/train.csv\n",
      "/kaggle/input/ipba-12-unext-jigsaw-classification-case-study/test.csv\n"
     ]
    }
   ],
   "source": [
    "import os\n",
    "for dirname, _, filenames in os.walk('/kaggle/input'):\n",
    "    for filename in filenames:\n",
    "        print(os.path.join(dirname, filename))"
   ]
  },
  {
   "cell_type": "code",
   "execution_count": 3,
   "id": "d5c050cd",
   "metadata": {
    "execution": {
     "iopub.execute_input": "2022-11-06T06:26:04.876909Z",
     "iopub.status.busy": "2022-11-06T06:26:04.875852Z",
     "iopub.status.idle": "2022-11-06T06:26:04.948751Z",
     "shell.execute_reply": "2022-11-06T06:26:04.947649Z"
    },
    "papermill": {
     "duration": 0.086549,
     "end_time": "2022-11-06T06:26:04.951558",
     "exception": false,
     "start_time": "2022-11-06T06:26:04.865009",
     "status": "completed"
    },
    "tags": []
   },
   "outputs": [],
   "source": [
    "train = pd.read_csv('/kaggle/input/ipba-12-unext-jigsaw-classification-case-study/train.csv')\n",
    "test = pd.read_csv('/kaggle/input/ipba-12-unext-jigsaw-classification-case-study/test.csv')"
   ]
  },
  {
   "cell_type": "markdown",
   "id": "ebb158c7",
   "metadata": {
    "papermill": {
     "duration": 0.008508,
     "end_time": "2022-11-06T06:26:04.970100",
     "exception": false,
     "start_time": "2022-11-06T06:26:04.961592",
     "status": "completed"
    },
    "tags": []
   },
   "source": [
    "### Describe Data"
   ]
  },
  {
   "cell_type": "code",
   "execution_count": 4,
   "id": "ff81540a",
   "metadata": {
    "execution": {
     "iopub.execute_input": "2022-11-06T06:26:04.990137Z",
     "iopub.status.busy": "2022-11-06T06:26:04.989499Z",
     "iopub.status.idle": "2022-11-06T06:26:05.022792Z",
     "shell.execute_reply": "2022-11-06T06:26:05.020856Z"
    },
    "papermill": {
     "duration": 0.046165,
     "end_time": "2022-11-06T06:26:05.025291",
     "exception": false,
     "start_time": "2022-11-06T06:26:04.979126",
     "status": "completed"
    },
    "tags": []
   },
   "outputs": [
    {
     "name": "stdout",
     "output_type": "stream",
     "text": [
      "<class 'pandas.core.frame.DataFrame'>\n",
      "RangeIndex: 5282 entries, 0 to 5281\n",
      "Data columns (total 21 columns):\n",
      " #   Column            Non-Null Count  Dtype  \n",
      "---  ------            --------------  -----  \n",
      " 0   customerID        5282 non-null   object \n",
      " 1   gender            5282 non-null   object \n",
      " 2   SeniorCitizen     5282 non-null   int64  \n",
      " 3   Partner           5282 non-null   object \n",
      " 4   Dependents        5282 non-null   object \n",
      " 5   tenure            5282 non-null   int64  \n",
      " 6   PhoneService      5282 non-null   object \n",
      " 7   MultipleLines     5282 non-null   object \n",
      " 8   InternetService   5282 non-null   object \n",
      " 9   OnlineSecurity    5282 non-null   object \n",
      " 10  OnlineBackup      5282 non-null   object \n",
      " 11  DeviceProtection  5282 non-null   object \n",
      " 12  TechSupport       5282 non-null   object \n",
      " 13  StreamingTV       5282 non-null   object \n",
      " 14  StreamingMovies   5282 non-null   object \n",
      " 15  Contract          5282 non-null   object \n",
      " 16  PaperlessBilling  5282 non-null   object \n",
      " 17  PaymentMethod     5282 non-null   object \n",
      " 18  MonthlyCharges    5282 non-null   float64\n",
      " 19  TotalCharges      5282 non-null   object \n",
      " 20  Churn             5282 non-null   int64  \n",
      "dtypes: float64(1), int64(3), object(17)\n",
      "memory usage: 866.7+ KB\n"
     ]
    }
   ],
   "source": [
    "train.info()"
   ]
  },
  {
   "cell_type": "code",
   "execution_count": 5,
   "id": "4243eeb5",
   "metadata": {
    "execution": {
     "iopub.execute_input": "2022-11-06T06:26:05.045708Z",
     "iopub.status.busy": "2022-11-06T06:26:05.044379Z",
     "iopub.status.idle": "2022-11-06T06:26:05.061692Z",
     "shell.execute_reply": "2022-11-06T06:26:05.060094Z"
    },
    "papermill": {
     "duration": 0.030276,
     "end_time": "2022-11-06T06:26:05.064542",
     "exception": false,
     "start_time": "2022-11-06T06:26:05.034266",
     "status": "completed"
    },
    "tags": []
   },
   "outputs": [
    {
     "name": "stdout",
     "output_type": "stream",
     "text": [
      "<class 'pandas.core.frame.DataFrame'>\n",
      "RangeIndex: 1761 entries, 0 to 1760\n",
      "Data columns (total 20 columns):\n",
      " #   Column            Non-Null Count  Dtype  \n",
      "---  ------            --------------  -----  \n",
      " 0   customerID        1761 non-null   object \n",
      " 1   gender            1761 non-null   object \n",
      " 2   SeniorCitizen     1761 non-null   int64  \n",
      " 3   Partner           1761 non-null   object \n",
      " 4   Dependents        1761 non-null   object \n",
      " 5   tenure            1761 non-null   int64  \n",
      " 6   PhoneService      1761 non-null   object \n",
      " 7   MultipleLines     1761 non-null   object \n",
      " 8   InternetService   1761 non-null   object \n",
      " 9   OnlineSecurity    1761 non-null   object \n",
      " 10  OnlineBackup      1761 non-null   object \n",
      " 11  DeviceProtection  1761 non-null   object \n",
      " 12  TechSupport       1761 non-null   object \n",
      " 13  StreamingTV       1761 non-null   object \n",
      " 14  StreamingMovies   1761 non-null   object \n",
      " 15  Contract          1761 non-null   object \n",
      " 16  PaperlessBilling  1761 non-null   object \n",
      " 17  PaymentMethod     1761 non-null   object \n",
      " 18  MonthlyCharges    1761 non-null   float64\n",
      " 19  TotalCharges      1761 non-null   object \n",
      "dtypes: float64(1), int64(2), object(17)\n",
      "memory usage: 275.3+ KB\n"
     ]
    }
   ],
   "source": [
    "test.info()"
   ]
  },
  {
   "cell_type": "markdown",
   "id": "365b6f2c",
   "metadata": {
    "papermill": {
     "duration": 0.00851,
     "end_time": "2022-11-06T06:26:05.082029",
     "exception": false,
     "start_time": "2022-11-06T06:26:05.073519",
     "status": "completed"
    },
    "tags": []
   },
   "source": [
    "# Data Cleaning"
   ]
  },
  {
   "cell_type": "code",
   "execution_count": 6,
   "id": "0c15c95e",
   "metadata": {
    "execution": {
     "iopub.execute_input": "2022-11-06T06:26:05.102281Z",
     "iopub.status.busy": "2022-11-06T06:26:05.101460Z",
     "iopub.status.idle": "2022-11-06T06:26:05.109073Z",
     "shell.execute_reply": "2022-11-06T06:26:05.107747Z"
    },
    "papermill": {
     "duration": 0.021151,
     "end_time": "2022-11-06T06:26:05.112105",
     "exception": false,
     "start_time": "2022-11-06T06:26:05.090954",
     "status": "completed"
    },
    "tags": []
   },
   "outputs": [],
   "source": [
    "train['TotalCharges'] = train['TotalCharges'].replace(' ',np.nan)\n",
    "test['TotalCharges'] = test['TotalCharges'].replace(' ',np.nan)"
   ]
  },
  {
   "cell_type": "code",
   "execution_count": 7,
   "id": "3f5c24aa",
   "metadata": {
    "execution": {
     "iopub.execute_input": "2022-11-06T06:26:05.132421Z",
     "iopub.status.busy": "2022-11-06T06:26:05.131959Z",
     "iopub.status.idle": "2022-11-06T06:26:05.141276Z",
     "shell.execute_reply": "2022-11-06T06:26:05.140331Z"
    },
    "papermill": {
     "duration": 0.022556,
     "end_time": "2022-11-06T06:26:05.143691",
     "exception": false,
     "start_time": "2022-11-06T06:26:05.121135",
     "status": "completed"
    },
    "tags": []
   },
   "outputs": [],
   "source": [
    "train['TotalCharges'] = train['TotalCharges'].astype('float64')\n",
    "test['TotalCharges'] = test['TotalCharges'].astype('float64')"
   ]
  },
  {
   "cell_type": "markdown",
   "id": "27c63664",
   "metadata": {
    "papermill": {
     "duration": 0.008735,
     "end_time": "2022-11-06T06:26:05.161479",
     "exception": false,
     "start_time": "2022-11-06T06:26:05.152744",
     "status": "completed"
    },
    "tags": []
   },
   "source": [
    "## Partition Data into X and y"
   ]
  },
  {
   "cell_type": "code",
   "execution_count": 8,
   "id": "acfeef14",
   "metadata": {
    "execution": {
     "iopub.execute_input": "2022-11-06T06:26:05.181909Z",
     "iopub.status.busy": "2022-11-06T06:26:05.180669Z",
     "iopub.status.idle": "2022-11-06T06:26:05.190502Z",
     "shell.execute_reply": "2022-11-06T06:26:05.189400Z"
    },
    "papermill": {
     "duration": 0.022951,
     "end_time": "2022-11-06T06:26:05.193423",
     "exception": false,
     "start_time": "2022-11-06T06:26:05.170472",
     "status": "completed"
    },
    "tags": []
   },
   "outputs": [],
   "source": [
    "y = train['Churn']\n",
    "X = train.drop(['Churn','customerID','TotalCharges'], axis = 1)"
   ]
  },
  {
   "cell_type": "code",
   "execution_count": 9,
   "id": "6802fea5",
   "metadata": {
    "execution": {
     "iopub.execute_input": "2022-11-06T06:26:05.213289Z",
     "iopub.status.busy": "2022-11-06T06:26:05.212884Z",
     "iopub.status.idle": "2022-11-06T06:26:05.220142Z",
     "shell.execute_reply": "2022-11-06T06:26:05.219216Z"
    },
    "papermill": {
     "duration": 0.019904,
     "end_time": "2022-11-06T06:26:05.222383",
     "exception": false,
     "start_time": "2022-11-06T06:26:05.202479",
     "status": "completed"
    },
    "tags": []
   },
   "outputs": [],
   "source": [
    "X_predict = test.drop(['customerID','TotalCharges'], axis = 1)"
   ]
  },
  {
   "cell_type": "markdown",
   "id": "fdc4d4d6",
   "metadata": {
    "papermill": {
     "duration": 0.00871,
     "end_time": "2022-11-06T06:26:05.240492",
     "exception": false,
     "start_time": "2022-11-06T06:26:05.231782",
     "status": "completed"
    },
    "tags": []
   },
   "source": [
    "## Create Dummy Variables"
   ]
  },
  {
   "cell_type": "code",
   "execution_count": 10,
   "id": "e22b8a25",
   "metadata": {
    "execution": {
     "iopub.execute_input": "2022-11-06T06:26:05.260524Z",
     "iopub.status.busy": "2022-11-06T06:26:05.260076Z",
     "iopub.status.idle": "2022-11-06T06:26:05.309608Z",
     "shell.execute_reply": "2022-11-06T06:26:05.308526Z"
    },
    "papermill": {
     "duration": 0.062517,
     "end_time": "2022-11-06T06:26:05.312000",
     "exception": false,
     "start_time": "2022-11-06T06:26:05.249483",
     "status": "completed"
    },
    "tags": []
   },
   "outputs": [
    {
     "data": {
      "text/html": [
       "<div>\n",
       "<style scoped>\n",
       "    .dataframe tbody tr th:only-of-type {\n",
       "        vertical-align: middle;\n",
       "    }\n",
       "\n",
       "    .dataframe tbody tr th {\n",
       "        vertical-align: top;\n",
       "    }\n",
       "\n",
       "    .dataframe thead th {\n",
       "        text-align: right;\n",
       "    }\n",
       "</style>\n",
       "<table border=\"1\" class=\"dataframe\">\n",
       "  <thead>\n",
       "    <tr style=\"text-align: right;\">\n",
       "      <th></th>\n",
       "      <th>SeniorCitizen</th>\n",
       "      <th>tenure</th>\n",
       "      <th>MonthlyCharges</th>\n",
       "      <th>gender_Female</th>\n",
       "      <th>gender_Male</th>\n",
       "      <th>Partner_No</th>\n",
       "      <th>Partner_Yes</th>\n",
       "      <th>Dependents_No</th>\n",
       "      <th>Dependents_Yes</th>\n",
       "      <th>PhoneService_No</th>\n",
       "      <th>...</th>\n",
       "      <th>StreamingMovies_Yes</th>\n",
       "      <th>Contract_Month-to-month</th>\n",
       "      <th>Contract_One year</th>\n",
       "      <th>Contract_Two year</th>\n",
       "      <th>PaperlessBilling_No</th>\n",
       "      <th>PaperlessBilling_Yes</th>\n",
       "      <th>PaymentMethod_Bank transfer (automatic)</th>\n",
       "      <th>PaymentMethod_Credit card (automatic)</th>\n",
       "      <th>PaymentMethod_Electronic check</th>\n",
       "      <th>PaymentMethod_Mailed check</th>\n",
       "    </tr>\n",
       "  </thead>\n",
       "  <tbody>\n",
       "    <tr>\n",
       "      <th>0</th>\n",
       "      <td>0</td>\n",
       "      <td>72</td>\n",
       "      <td>53.65</td>\n",
       "      <td>1</td>\n",
       "      <td>0</td>\n",
       "      <td>0</td>\n",
       "      <td>1</td>\n",
       "      <td>0</td>\n",
       "      <td>1</td>\n",
       "      <td>1</td>\n",
       "      <td>...</td>\n",
       "      <td>1</td>\n",
       "      <td>0</td>\n",
       "      <td>0</td>\n",
       "      <td>1</td>\n",
       "      <td>1</td>\n",
       "      <td>0</td>\n",
       "      <td>0</td>\n",
       "      <td>1</td>\n",
       "      <td>0</td>\n",
       "      <td>0</td>\n",
       "    </tr>\n",
       "    <tr>\n",
       "      <th>1</th>\n",
       "      <td>0</td>\n",
       "      <td>4</td>\n",
       "      <td>46.00</td>\n",
       "      <td>1</td>\n",
       "      <td>0</td>\n",
       "      <td>1</td>\n",
       "      <td>0</td>\n",
       "      <td>1</td>\n",
       "      <td>0</td>\n",
       "      <td>0</td>\n",
       "      <td>...</td>\n",
       "      <td>0</td>\n",
       "      <td>1</td>\n",
       "      <td>0</td>\n",
       "      <td>0</td>\n",
       "      <td>0</td>\n",
       "      <td>1</td>\n",
       "      <td>0</td>\n",
       "      <td>0</td>\n",
       "      <td>0</td>\n",
       "      <td>1</td>\n",
       "    </tr>\n",
       "  </tbody>\n",
       "</table>\n",
       "<p>2 rows × 44 columns</p>\n",
       "</div>"
      ],
      "text/plain": [
       "   SeniorCitizen  tenure  MonthlyCharges  gender_Female  gender_Male  \\\n",
       "0              0      72           53.65              1            0   \n",
       "1              0       4           46.00              1            0   \n",
       "\n",
       "   Partner_No  Partner_Yes  Dependents_No  Dependents_Yes  PhoneService_No  \\\n",
       "0           0            1              0               1                1   \n",
       "1           1            0              1               0                0   \n",
       "\n",
       "   ...  StreamingMovies_Yes  Contract_Month-to-month  Contract_One year  \\\n",
       "0  ...                    1                        0                  0   \n",
       "1  ...                    0                        1                  0   \n",
       "\n",
       "   Contract_Two year  PaperlessBilling_No  PaperlessBilling_Yes  \\\n",
       "0                  1                    1                     0   \n",
       "1                  0                    0                     1   \n",
       "\n",
       "   PaymentMethod_Bank transfer (automatic)  \\\n",
       "0                                        0   \n",
       "1                                        0   \n",
       "\n",
       "   PaymentMethod_Credit card (automatic)  PaymentMethod_Electronic check  \\\n",
       "0                                      1                               0   \n",
       "1                                      0                               0   \n",
       "\n",
       "   PaymentMethod_Mailed check  \n",
       "0                           0  \n",
       "1                           1  \n",
       "\n",
       "[2 rows x 44 columns]"
      ]
     },
     "execution_count": 10,
     "metadata": {},
     "output_type": "execute_result"
    }
   ],
   "source": [
    "# Improvement Area 1 \n",
    "X = pd.get_dummies(X)\n",
    "X.head(2)"
   ]
  },
  {
   "cell_type": "code",
   "execution_count": 11,
   "id": "43abf1aa",
   "metadata": {
    "execution": {
     "iopub.execute_input": "2022-11-06T06:26:05.332320Z",
     "iopub.status.busy": "2022-11-06T06:26:05.331889Z",
     "iopub.status.idle": "2022-11-06T06:26:05.367667Z",
     "shell.execute_reply": "2022-11-06T06:26:05.366718Z"
    },
    "papermill": {
     "duration": 0.048972,
     "end_time": "2022-11-06T06:26:05.370210",
     "exception": false,
     "start_time": "2022-11-06T06:26:05.321238",
     "status": "completed"
    },
    "tags": []
   },
   "outputs": [
    {
     "data": {
      "text/html": [
       "<div>\n",
       "<style scoped>\n",
       "    .dataframe tbody tr th:only-of-type {\n",
       "        vertical-align: middle;\n",
       "    }\n",
       "\n",
       "    .dataframe tbody tr th {\n",
       "        vertical-align: top;\n",
       "    }\n",
       "\n",
       "    .dataframe thead th {\n",
       "        text-align: right;\n",
       "    }\n",
       "</style>\n",
       "<table border=\"1\" class=\"dataframe\">\n",
       "  <thead>\n",
       "    <tr style=\"text-align: right;\">\n",
       "      <th></th>\n",
       "      <th>SeniorCitizen</th>\n",
       "      <th>tenure</th>\n",
       "      <th>MonthlyCharges</th>\n",
       "      <th>gender_Female</th>\n",
       "      <th>gender_Male</th>\n",
       "      <th>Partner_No</th>\n",
       "      <th>Partner_Yes</th>\n",
       "      <th>Dependents_No</th>\n",
       "      <th>Dependents_Yes</th>\n",
       "      <th>PhoneService_No</th>\n",
       "      <th>...</th>\n",
       "      <th>StreamingMovies_Yes</th>\n",
       "      <th>Contract_Month-to-month</th>\n",
       "      <th>Contract_One year</th>\n",
       "      <th>Contract_Two year</th>\n",
       "      <th>PaperlessBilling_No</th>\n",
       "      <th>PaperlessBilling_Yes</th>\n",
       "      <th>PaymentMethod_Bank transfer (automatic)</th>\n",
       "      <th>PaymentMethod_Credit card (automatic)</th>\n",
       "      <th>PaymentMethod_Electronic check</th>\n",
       "      <th>PaymentMethod_Mailed check</th>\n",
       "    </tr>\n",
       "  </thead>\n",
       "  <tbody>\n",
       "    <tr>\n",
       "      <th>0</th>\n",
       "      <td>0</td>\n",
       "      <td>52</td>\n",
       "      <td>80.20</td>\n",
       "      <td>1</td>\n",
       "      <td>0</td>\n",
       "      <td>1</td>\n",
       "      <td>0</td>\n",
       "      <td>1</td>\n",
       "      <td>0</td>\n",
       "      <td>0</td>\n",
       "      <td>...</td>\n",
       "      <td>0</td>\n",
       "      <td>0</td>\n",
       "      <td>1</td>\n",
       "      <td>0</td>\n",
       "      <td>0</td>\n",
       "      <td>1</td>\n",
       "      <td>0</td>\n",
       "      <td>0</td>\n",
       "      <td>0</td>\n",
       "      <td>1</td>\n",
       "    </tr>\n",
       "    <tr>\n",
       "      <th>1</th>\n",
       "      <td>0</td>\n",
       "      <td>33</td>\n",
       "      <td>24.25</td>\n",
       "      <td>1</td>\n",
       "      <td>0</td>\n",
       "      <td>0</td>\n",
       "      <td>1</td>\n",
       "      <td>0</td>\n",
       "      <td>1</td>\n",
       "      <td>0</td>\n",
       "      <td>...</td>\n",
       "      <td>0</td>\n",
       "      <td>1</td>\n",
       "      <td>0</td>\n",
       "      <td>0</td>\n",
       "      <td>1</td>\n",
       "      <td>0</td>\n",
       "      <td>1</td>\n",
       "      <td>0</td>\n",
       "      <td>0</td>\n",
       "      <td>0</td>\n",
       "    </tr>\n",
       "  </tbody>\n",
       "</table>\n",
       "<p>2 rows × 44 columns</p>\n",
       "</div>"
      ],
      "text/plain": [
       "   SeniorCitizen  tenure  MonthlyCharges  gender_Female  gender_Male  \\\n",
       "0              0      52           80.20              1            0   \n",
       "1              0      33           24.25              1            0   \n",
       "\n",
       "   Partner_No  Partner_Yes  Dependents_No  Dependents_Yes  PhoneService_No  \\\n",
       "0           1            0              1               0                0   \n",
       "1           0            1              0               1                0   \n",
       "\n",
       "   ...  StreamingMovies_Yes  Contract_Month-to-month  Contract_One year  \\\n",
       "0  ...                    0                        0                  1   \n",
       "1  ...                    0                        1                  0   \n",
       "\n",
       "   Contract_Two year  PaperlessBilling_No  PaperlessBilling_Yes  \\\n",
       "0                  0                    0                     1   \n",
       "1                  0                    1                     0   \n",
       "\n",
       "   PaymentMethod_Bank transfer (automatic)  \\\n",
       "0                                        0   \n",
       "1                                        1   \n",
       "\n",
       "   PaymentMethod_Credit card (automatic)  PaymentMethod_Electronic check  \\\n",
       "0                                      0                               0   \n",
       "1                                      0                               0   \n",
       "\n",
       "   PaymentMethod_Mailed check  \n",
       "0                           1  \n",
       "1                           0  \n",
       "\n",
       "[2 rows x 44 columns]"
      ]
     },
     "execution_count": 11,
     "metadata": {},
     "output_type": "execute_result"
    }
   ],
   "source": [
    "X_predict = pd.get_dummies(X_predict)\n",
    "X_predict.head(2)"
   ]
  },
  {
   "cell_type": "markdown",
   "id": "8da714a9",
   "metadata": {
    "papermill": {
     "duration": 0.00914,
     "end_time": "2022-11-06T06:26:05.389087",
     "exception": false,
     "start_time": "2022-11-06T06:26:05.379947",
     "status": "completed"
    },
    "tags": []
   },
   "source": [
    "## Train Test Split"
   ]
  },
  {
   "cell_type": "code",
   "execution_count": 12,
   "id": "34d2e17a",
   "metadata": {
    "execution": {
     "iopub.execute_input": "2022-11-06T06:26:05.411126Z",
     "iopub.status.busy": "2022-11-06T06:26:05.409882Z",
     "iopub.status.idle": "2022-11-06T06:26:05.423012Z",
     "shell.execute_reply": "2022-11-06T06:26:05.421988Z"
    },
    "papermill": {
     "duration": 0.027283,
     "end_time": "2022-11-06T06:26:05.425880",
     "exception": false,
     "start_time": "2022-11-06T06:26:05.398597",
     "status": "completed"
    },
    "tags": []
   },
   "outputs": [],
   "source": [
    "X_train, X_test, y_train, y_test = train_test_split(X, y, test_size=0.20, random_state=23, stratify = y)"
   ]
  },
  {
   "cell_type": "markdown",
   "id": "8b48ac9e",
   "metadata": {
    "papermill": {
     "duration": 0.009445,
     "end_time": "2022-11-06T06:26:05.445165",
     "exception": false,
     "start_time": "2022-11-06T06:26:05.435720",
     "status": "completed"
    },
    "tags": []
   },
   "source": [
    "## Decision Tree with Hyperparameter"
   ]
  },
  {
   "cell_type": "markdown",
   "id": "a5fc6f30",
   "metadata": {
    "papermill": {
     "duration": 0.009232,
     "end_time": "2022-11-06T06:26:05.463894",
     "exception": false,
     "start_time": "2022-11-06T06:26:05.454662",
     "status": "completed"
    },
    "tags": []
   },
   "source": [
    "### 1/ Initiate an Instance"
   ]
  },
  {
   "cell_type": "code",
   "execution_count": 13,
   "id": "4cd8a450",
   "metadata": {
    "execution": {
     "iopub.execute_input": "2022-11-06T06:26:05.486093Z",
     "iopub.status.busy": "2022-11-06T06:26:05.485672Z",
     "iopub.status.idle": "2022-11-06T06:26:05.490932Z",
     "shell.execute_reply": "2022-11-06T06:26:05.489527Z"
    },
    "papermill": {
     "duration": 0.019643,
     "end_time": "2022-11-06T06:26:05.493433",
     "exception": false,
     "start_time": "2022-11-06T06:26:05.473790",
     "status": "completed"
    },
    "tags": []
   },
   "outputs": [],
   "source": [
    "#rf_model = RandomForestClassifier(random_state = 42)\n",
    "rf_model = RandomForestClassifier(random_state = 42, class_weight = 'balanced')"
   ]
  },
  {
   "cell_type": "markdown",
   "id": "3e7e5eea",
   "metadata": {
    "papermill": {
     "duration": 0.008988,
     "end_time": "2022-11-06T06:26:05.512088",
     "exception": false,
     "start_time": "2022-11-06T06:26:05.503100",
     "status": "completed"
    },
    "tags": []
   },
   "source": [
    "### 2/ Create Parameter Grid\n",
    "- https://scikit-learn.org/stable/modules/generated/sklearn.tree.DecisionTreeClassifier.html"
   ]
  },
  {
   "cell_type": "code",
   "execution_count": 14,
   "id": "043a484e",
   "metadata": {
    "execution": {
     "iopub.execute_input": "2022-11-06T06:26:05.532587Z",
     "iopub.status.busy": "2022-11-06T06:26:05.532143Z",
     "iopub.status.idle": "2022-11-06T06:26:05.537696Z",
     "shell.execute_reply": "2022-11-06T06:26:05.536557Z"
    },
    "papermill": {
     "duration": 0.018593,
     "end_time": "2022-11-06T06:26:05.540077",
     "exception": false,
     "start_time": "2022-11-06T06:26:05.521484",
     "status": "completed"
    },
    "tags": []
   },
   "outputs": [],
   "source": [
    "# Improvement Area \n",
    "dt_param_grid = {\n",
    "    'n_estimators' : range(2,40,2),\n",
    "    'max_depth' : range(2,10),\n",
    "    'max_features' :  ['auto', 'sqrt', 'log2'] \n",
    "}"
   ]
  },
  {
   "cell_type": "markdown",
   "id": "34ea1c9e",
   "metadata": {
    "papermill": {
     "duration": 0.009042,
     "end_time": "2022-11-06T06:26:05.558721",
     "exception": false,
     "start_time": "2022-11-06T06:26:05.549679",
     "status": "completed"
    },
    "tags": []
   },
   "source": [
    "### 3/ Initiate a GridSearchCV instance\n",
    "- model\n",
    "- parameter grid\n",
    "- scoring"
   ]
  },
  {
   "cell_type": "code",
   "execution_count": 15,
   "id": "175cc644",
   "metadata": {
    "execution": {
     "iopub.execute_input": "2022-11-06T06:26:05.579503Z",
     "iopub.status.busy": "2022-11-06T06:26:05.578687Z",
     "iopub.status.idle": "2022-11-06T06:26:05.583879Z",
     "shell.execute_reply": "2022-11-06T06:26:05.583075Z"
    },
    "papermill": {
     "duration": 0.017852,
     "end_time": "2022-11-06T06:26:05.585972",
     "exception": false,
     "start_time": "2022-11-06T06:26:05.568120",
     "status": "completed"
    },
    "tags": []
   },
   "outputs": [],
   "source": [
    "gs_dt = GridSearchCV(rf_model, param_grid = dt_param_grid, scoring = 'accuracy')"
   ]
  },
  {
   "cell_type": "markdown",
   "id": "cf243cc9",
   "metadata": {
    "papermill": {
     "duration": 0.008973,
     "end_time": "2022-11-06T06:26:05.605086",
     "exception": false,
     "start_time": "2022-11-06T06:26:05.596113",
     "status": "completed"
    },
    "tags": []
   },
   "source": [
    "### 4/ Fit Grid Search to get Best Estimators"
   ]
  },
  {
   "cell_type": "code",
   "execution_count": 16,
   "id": "ca736ade",
   "metadata": {
    "execution": {
     "iopub.execute_input": "2022-11-06T06:26:05.625208Z",
     "iopub.status.busy": "2022-11-06T06:26:05.624813Z",
     "iopub.status.idle": "2022-11-06T06:28:57.552508Z",
     "shell.execute_reply": "2022-11-06T06:28:57.551282Z"
    },
    "papermill": {
     "duration": 171.949738,
     "end_time": "2022-11-06T06:28:57.563966",
     "exception": false,
     "start_time": "2022-11-06T06:26:05.614228",
     "status": "completed"
    },
    "tags": []
   },
   "outputs": [
    {
     "data": {
      "text/plain": [
       "GridSearchCV(estimator=RandomForestClassifier(class_weight='balanced',\n",
       "                                              random_state=42),\n",
       "             param_grid={'max_depth': range(2, 10),\n",
       "                         'max_features': ['auto', 'sqrt', 'log2'],\n",
       "                         'n_estimators': range(2, 40, 2)},\n",
       "             scoring='accuracy')"
      ]
     },
     "execution_count": 16,
     "metadata": {},
     "output_type": "execute_result"
    }
   ],
   "source": [
    "gs_dt.fit(X_train,y_train)"
   ]
  },
  {
   "cell_type": "markdown",
   "id": "a8d478b1",
   "metadata": {
    "papermill": {
     "duration": 0.009206,
     "end_time": "2022-11-06T06:28:57.582934",
     "exception": false,
     "start_time": "2022-11-06T06:28:57.573728",
     "status": "completed"
    },
    "tags": []
   },
   "source": [
    "### 5/ Store Best Estimator"
   ]
  },
  {
   "cell_type": "code",
   "execution_count": 17,
   "id": "9988aa2c",
   "metadata": {
    "execution": {
     "iopub.execute_input": "2022-11-06T06:28:57.604667Z",
     "iopub.status.busy": "2022-11-06T06:28:57.603827Z",
     "iopub.status.idle": "2022-11-06T06:28:57.612893Z",
     "shell.execute_reply": "2022-11-06T06:28:57.612061Z"
    },
    "papermill": {
     "duration": 0.022462,
     "end_time": "2022-11-06T06:28:57.615285",
     "exception": false,
     "start_time": "2022-11-06T06:28:57.592823",
     "status": "completed"
    },
    "tags": []
   },
   "outputs": [
    {
     "data": {
      "text/plain": [
       "RandomForestClassifier(class_weight='balanced', max_depth=9, n_estimators=34,\n",
       "                       random_state=42)"
      ]
     },
     "execution_count": 17,
     "metadata": {},
     "output_type": "execute_result"
    }
   ],
   "source": [
    "gs_dt.best_estimator_"
   ]
  },
  {
   "cell_type": "code",
   "execution_count": 18,
   "id": "5c811bd5",
   "metadata": {
    "execution": {
     "iopub.execute_input": "2022-11-06T06:28:57.636577Z",
     "iopub.status.busy": "2022-11-06T06:28:57.636141Z",
     "iopub.status.idle": "2022-11-06T06:28:57.640996Z",
     "shell.execute_reply": "2022-11-06T06:28:57.639811Z"
    },
    "papermill": {
     "duration": 0.01861,
     "end_time": "2022-11-06T06:28:57.643494",
     "exception": false,
     "start_time": "2022-11-06T06:28:57.624884",
     "status": "completed"
    },
    "tags": []
   },
   "outputs": [],
   "source": [
    "best_dt_estimates = gs_dt.best_estimator_"
   ]
  },
  {
   "cell_type": "markdown",
   "id": "2c60da18",
   "metadata": {
    "papermill": {
     "duration": 0.009804,
     "end_time": "2022-11-06T06:28:57.663211",
     "exception": false,
     "start_time": "2022-11-06T06:28:57.653407",
     "status": "completed"
    },
    "tags": []
   },
   "source": [
    "### 6/ Fit Model with Best Estimator"
   ]
  },
  {
   "cell_type": "code",
   "execution_count": 19,
   "id": "137638ec",
   "metadata": {
    "execution": {
     "iopub.execute_input": "2022-11-06T06:28:57.684291Z",
     "iopub.status.busy": "2022-11-06T06:28:57.683910Z",
     "iopub.status.idle": "2022-11-06T06:28:57.841828Z",
     "shell.execute_reply": "2022-11-06T06:28:57.840545Z"
    },
    "papermill": {
     "duration": 0.17175,
     "end_time": "2022-11-06T06:28:57.844595",
     "exception": false,
     "start_time": "2022-11-06T06:28:57.672845",
     "status": "completed"
    },
    "tags": []
   },
   "outputs": [
    {
     "data": {
      "text/plain": [
       "RandomForestClassifier(class_weight='balanced', max_depth=9, n_estimators=34,\n",
       "                       random_state=42)"
      ]
     },
     "execution_count": 19,
     "metadata": {},
     "output_type": "execute_result"
    }
   ],
   "source": [
    "best_dt_estimates.fit(X_train, y_train)"
   ]
  },
  {
   "cell_type": "markdown",
   "id": "3b2baa8e",
   "metadata": {
    "papermill": {
     "duration": 0.009785,
     "end_time": "2022-11-06T06:28:57.864451",
     "exception": false,
     "start_time": "2022-11-06T06:28:57.854666",
     "status": "completed"
    },
    "tags": []
   },
   "source": [
    "### 7/ Make predictions"
   ]
  },
  {
   "cell_type": "code",
   "execution_count": 20,
   "id": "d3ba9a38",
   "metadata": {
    "execution": {
     "iopub.execute_input": "2022-11-06T06:28:57.887422Z",
     "iopub.status.busy": "2022-11-06T06:28:57.886175Z",
     "iopub.status.idle": "2022-11-06T06:28:57.935538Z",
     "shell.execute_reply": "2022-11-06T06:28:57.934399Z"
    },
    "papermill": {
     "duration": 0.063832,
     "end_time": "2022-11-06T06:28:57.938288",
     "exception": false,
     "start_time": "2022-11-06T06:28:57.874456",
     "status": "completed"
    },
    "tags": []
   },
   "outputs": [],
   "source": [
    "y_train_predicted = best_dt_estimates.predict(X_train)\n",
    "y_test_predicted = best_dt_estimates.predict(X_test)"
   ]
  },
  {
   "cell_type": "code",
   "execution_count": 21,
   "id": "2f4a8ac7",
   "metadata": {
    "execution": {
     "iopub.execute_input": "2022-11-06T06:28:57.960935Z",
     "iopub.status.busy": "2022-11-06T06:28:57.960290Z",
     "iopub.status.idle": "2022-11-06T06:28:57.984854Z",
     "shell.execute_reply": "2022-11-06T06:28:57.983601Z"
    },
    "papermill": {
     "duration": 0.039031,
     "end_time": "2022-11-06T06:28:57.987807",
     "exception": false,
     "start_time": "2022-11-06T06:28:57.948776",
     "status": "completed"
    },
    "tags": []
   },
   "outputs": [],
   "source": [
    "y_sub_predicted = best_dt_estimates.predict(X_predict)"
   ]
  },
  {
   "cell_type": "code",
   "execution_count": 22,
   "id": "1055e34b",
   "metadata": {
    "execution": {
     "iopub.execute_input": "2022-11-06T06:28:58.010031Z",
     "iopub.status.busy": "2022-11-06T06:28:58.009593Z",
     "iopub.status.idle": "2022-11-06T06:28:58.021307Z",
     "shell.execute_reply": "2022-11-06T06:28:58.020157Z"
    },
    "papermill": {
     "duration": 0.025671,
     "end_time": "2022-11-06T06:28:58.023678",
     "exception": false,
     "start_time": "2022-11-06T06:28:57.998007",
     "status": "completed"
    },
    "tags": []
   },
   "outputs": [
    {
     "data": {
      "text/html": [
       "<div>\n",
       "<style scoped>\n",
       "    .dataframe tbody tr th:only-of-type {\n",
       "        vertical-align: middle;\n",
       "    }\n",
       "\n",
       "    .dataframe tbody tr th {\n",
       "        vertical-align: top;\n",
       "    }\n",
       "\n",
       "    .dataframe thead th {\n",
       "        text-align: right;\n",
       "    }\n",
       "</style>\n",
       "<table border=\"1\" class=\"dataframe\">\n",
       "  <thead>\n",
       "    <tr style=\"text-align: right;\">\n",
       "      <th></th>\n",
       "      <th>customerID</th>\n",
       "      <th>Churn</th>\n",
       "    </tr>\n",
       "  </thead>\n",
       "  <tbody>\n",
       "    <tr>\n",
       "      <th>0</th>\n",
       "      <td>5343-SGUBI</td>\n",
       "      <td>0</td>\n",
       "    </tr>\n",
       "    <tr>\n",
       "      <th>1</th>\n",
       "      <td>5442-BXVND</td>\n",
       "      <td>0</td>\n",
       "    </tr>\n",
       "    <tr>\n",
       "      <th>2</th>\n",
       "      <td>6434-TTGJP</td>\n",
       "      <td>0</td>\n",
       "    </tr>\n",
       "    <tr>\n",
       "      <th>3</th>\n",
       "      <td>1628-BIZYP</td>\n",
       "      <td>1</td>\n",
       "    </tr>\n",
       "    <tr>\n",
       "      <th>4</th>\n",
       "      <td>0298-XACET</td>\n",
       "      <td>0</td>\n",
       "    </tr>\n",
       "  </tbody>\n",
       "</table>\n",
       "</div>"
      ],
      "text/plain": [
       "   customerID  Churn\n",
       "0  5343-SGUBI      0\n",
       "1  5442-BXVND      0\n",
       "2  6434-TTGJP      0\n",
       "3  1628-BIZYP      1\n",
       "4  0298-XACET      0"
      ]
     },
     "execution_count": 22,
     "metadata": {},
     "output_type": "execute_result"
    }
   ],
   "source": [
    "submission = pd.DataFrame({\n",
    "    'customerID' : test['customerID'],\n",
    "    'Churn' : y_sub_predicted\n",
    "})\n",
    "submission.head()"
   ]
  },
  {
   "cell_type": "code",
   "execution_count": 23,
   "id": "a21c0e34",
   "metadata": {
    "execution": {
     "iopub.execute_input": "2022-11-06T06:28:58.046729Z",
     "iopub.status.busy": "2022-11-06T06:28:58.046292Z",
     "iopub.status.idle": "2022-11-06T06:28:58.056979Z",
     "shell.execute_reply": "2022-11-06T06:28:58.055774Z"
    },
    "papermill": {
     "duration": 0.025042,
     "end_time": "2022-11-06T06:28:58.059503",
     "exception": false,
     "start_time": "2022-11-06T06:28:58.034461",
     "status": "completed"
    },
    "tags": []
   },
   "outputs": [],
   "source": [
    "submission.to_csv('submission.csv', index = False)"
   ]
  },
  {
   "cell_type": "markdown",
   "id": "6fb468c1",
   "metadata": {
    "papermill": {
     "duration": 0.009921,
     "end_time": "2022-11-06T06:28:58.079883",
     "exception": false,
     "start_time": "2022-11-06T06:28:58.069962",
     "status": "completed"
    },
    "tags": []
   },
   "source": [
    "### 8/ Check Performance"
   ]
  },
  {
   "cell_type": "markdown",
   "id": "ce3d9780",
   "metadata": {
    "papermill": {
     "duration": 0.009833,
     "end_time": "2022-11-06T06:28:58.099934",
     "exception": false,
     "start_time": "2022-11-06T06:28:58.090101",
     "status": "completed"
    },
    "tags": []
   },
   "source": [
    "#### Check train Peformance"
   ]
  },
  {
   "cell_type": "code",
   "execution_count": 24,
   "id": "ccd0daf6",
   "metadata": {
    "execution": {
     "iopub.execute_input": "2022-11-06T06:28:58.122493Z",
     "iopub.status.busy": "2022-11-06T06:28:58.122045Z",
     "iopub.status.idle": "2022-11-06T06:28:58.139246Z",
     "shell.execute_reply": "2022-11-06T06:28:58.137572Z"
    },
    "papermill": {
     "duration": 0.031744,
     "end_time": "2022-11-06T06:28:58.142020",
     "exception": false,
     "start_time": "2022-11-06T06:28:58.110276",
     "status": "completed"
    },
    "tags": []
   },
   "outputs": [
    {
     "name": "stdout",
     "output_type": "stream",
     "text": [
      "              precision    recall  f1-score   support\n",
      "\n",
      "           0       0.95      0.83      0.88      3104\n",
      "           1       0.65      0.88      0.74      1121\n",
      "\n",
      "    accuracy                           0.84      4225\n",
      "   macro avg       0.80      0.85      0.81      4225\n",
      "weighted avg       0.87      0.84      0.85      4225\n",
      "\n"
     ]
    }
   ],
   "source": [
    "print(classification_report(y_train, y_train_predicted))"
   ]
  },
  {
   "cell_type": "markdown",
   "id": "bccf716c",
   "metadata": {
    "papermill": {
     "duration": 0.010224,
     "end_time": "2022-11-06T06:28:58.163044",
     "exception": false,
     "start_time": "2022-11-06T06:28:58.152820",
     "status": "completed"
    },
    "tags": []
   },
   "source": [
    "#### Check test peformance"
   ]
  },
  {
   "cell_type": "code",
   "execution_count": 25,
   "id": "8dcde00e",
   "metadata": {
    "execution": {
     "iopub.execute_input": "2022-11-06T06:28:58.186366Z",
     "iopub.status.busy": "2022-11-06T06:28:58.185903Z",
     "iopub.status.idle": "2022-11-06T06:28:58.197913Z",
     "shell.execute_reply": "2022-11-06T06:28:58.196506Z"
    },
    "papermill": {
     "duration": 0.026647,
     "end_time": "2022-11-06T06:28:58.200367",
     "exception": false,
     "start_time": "2022-11-06T06:28:58.173720",
     "status": "completed"
    },
    "tags": []
   },
   "outputs": [
    {
     "name": "stdout",
     "output_type": "stream",
     "text": [
      "              precision    recall  f1-score   support\n",
      "\n",
      "           0       0.90      0.78      0.84       776\n",
      "           1       0.56      0.75      0.64       281\n",
      "\n",
      "    accuracy                           0.77      1057\n",
      "   macro avg       0.73      0.77      0.74      1057\n",
      "weighted avg       0.81      0.77      0.78      1057\n",
      "\n"
     ]
    }
   ],
   "source": [
    "print(classification_report(y_test, y_test_predicted))"
   ]
  },
  {
   "cell_type": "markdown",
   "id": "7d6c99f8",
   "metadata": {
    "papermill": {
     "duration": 0.010408,
     "end_time": "2022-11-06T06:28:58.221705",
     "exception": false,
     "start_time": "2022-11-06T06:28:58.211297",
     "status": "completed"
    },
    "tags": []
   },
   "source": [
    "# Did we improve the performance?"
   ]
  }
 ],
 "metadata": {
  "kernelspec": {
   "display_name": "Python 3",
   "language": "python",
   "name": "python3"
  },
  "language_info": {
   "codemirror_mode": {
    "name": "ipython",
    "version": 3
   },
   "file_extension": ".py",
   "mimetype": "text/x-python",
   "name": "python",
   "nbconvert_exporter": "python",
   "pygments_lexer": "ipython3",
   "version": "3.7.12"
  },
  "papermill": {
   "default_parameters": {},
   "duration": 185.486926,
   "end_time": "2022-11-06T06:28:59.056753",
   "environment_variables": {},
   "exception": null,
   "input_path": "__notebook__.ipynb",
   "output_path": "__notebook__.ipynb",
   "parameters": {},
   "start_time": "2022-11-06T06:25:53.569827",
   "version": "2.3.4"
  }
 },
 "nbformat": 4,
 "nbformat_minor": 5
}
